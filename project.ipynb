{
 "cells": [
  {
   "cell_type": "markdown",
   "metadata": {},
   "source": [
    "\n",
    "## Section 1: Problem Formulation\n",
    "\n",
    "### Introduction:\n",
    "In this project, we aim to explore the effectiveness of contrastive learning, specifically using the SimCLR algorithm, \n",
    "for image classification tasks under the constraint of having limited labeled data. Contrastive learning is a technique \n",
    "in self-supervised learning that learns to encode similar items closer in the feature space while pushing dissimilar items further apart.\n"
   ]
  },
  {
   "cell_type": "code",
   "execution_count": null,
   "metadata": {},
   "outputs": [],
   "source": [
    "import sys\n",
    "on_linux = sys.platform.startswith('linux')"
   ]
  },
  {
   "cell_type": "code",
   "execution_count": null,
   "metadata": {},
   "outputs": [],
   "source": [
    "# Import necessary libraries\n",
    "import torch\n",
    "\n",
    "# Check if CUDA is available and set the device accordingly\n",
    "device = torch.device(\"cuda\" if torch.cuda.is_available() else \"cpu\")"
   ]
  },
  {
   "cell_type": "code",
   "execution_count": null,
   "metadata": {},
   "outputs": [],
   "source": [
    "args = {\n",
    "    \"dataset\": \"cifar10\",\n",
    "    \"model\": \"resnet50\",\n",
    "    \"batch_size\": 1024,\n",
    "    \"sample_rate\": 1,\n",
    "    \"epochs\": 100,\n",
    "    \"n_views\": 2,\n",
    "    \"out_dim\": 128,\n",
    "    \"lr\": 12e-4,\n",
    "    \"wd\": 1e-6,\n",
    "    \"log_every_n_steps\": 5,\n",
    "    \"n_workers\": 16,\n",
    "    \"temperature\": 0.07,\n",
    "    \"learning\": \"contrastive\",\n",
    "    \"val_split\": 0.2,\n",
    "}\n"
   ]
  },
  {
   "cell_type": "markdown",
   "metadata": {},
   "source": [
    "## Section 2: Dataset Preparations\n",
    "\n",
    "In this section, we will prepare the CIFAR-10, CIFAR-100, and MedMNIST datasets for training. \n",
    "We will apply necessary transformations and split the datasets into training, validation, and test sets.\n"
   ]
  },
  {
   "cell_type": "code",
   "execution_count": null,
   "metadata": {},
   "outputs": [],
   "source": [
    "from dataset import SimCLRDataset\n",
    "data = SimCLRDataset(args[\"dataset\"])\n",
    "build_dataloader = lambda dataset: torch.utils.data.DataLoader(\n",
    "    dataset,\n",
    "    batch_size=args[\"batch_size\"],\n",
    "    shuffle=True,\n",
    "    drop_last=True,\n",
    "    num_workers=args[\"n_workers\"],\n",
    ")\n",
    "train_dataset, val_dataset = data.get_train_val_datasets(args[\"n_views\"], args[\"val_split\"])\n",
    "train_loader = build_dataloader(train_dataset)\n",
    "val_loader = build_dataloader(val_dataset)\n",
    "test_dataset = data.get_test_dataset(args[\"n_views\"])\n",
    "test_loader = build_dataloader(test_dataset)\n",
    "num_classes = data.num_classes\n",
    "print(\"# Classes:\", num_classes)\n",
    "print(\"# Train, Val, Test:\", len(train_dataset), len(val_dataset), len(test_dataset))"
   ]
  },
  {
   "cell_type": "markdown",
   "metadata": {},
   "source": [
    "## Section 3: Deep Learning Model\n",
    "\n",
    "In this section, we will prepare the popular choice of deep learning model like ResNet18 and VGG16.\n"
   ]
  },
  {
   "cell_type": "code",
   "execution_count": null,
   "metadata": {},
   "outputs": [],
   "source": [
    "from model import SimCLRCNN \n",
    "model_args = {\n",
    "    \"backbone\": args[\"model\"],\n",
    "    \"out_dim\": args[\"out_dim\"] if args[\"learning\"] == \"contrastive\" else num_classes,\n",
    "    \"mod\": args[\"learning\"] == \"contrastive\",\n",
    "}\n",
    "model = SimCLRCNN(**model_args).to(device)\n",
    "if on_linux:\n",
    "    model = torch.compile(model)\n",
    "    torch.set_float32_matmul_precision('high')"
   ]
  },
  {
   "cell_type": "markdown",
   "metadata": {},
   "source": [
    "## Section 4: Contrastive Training"
   ]
  },
  {
   "cell_type": "code",
   "execution_count": null,
   "metadata": {},
   "outputs": [],
   "source": [
    "from train import contrastive_training, supervised_training\n",
    "from eval import info_nce_loss\n",
    "if args[\"learning\"] == \"contrastive\":\n",
    "    loss_fn = info_nce_loss\n",
    "    criterion = torch.nn.CrossEntropyLoss()\n",
    "    train_records, test_records = contrastive_training(model, train_loader, val_loader, loss_fn, criterion, device, args)\n",
    "else:\n",
    "    loss_fn = torch.nn.CrossEntropyLoss()\n",
    "    train_records, test_records = supervised_training(model, train_loader, val_loader, loss_fn, device, args)"
   ]
  },
  {
   "cell_type": "code",
   "execution_count": null,
   "metadata": {},
   "outputs": [],
   "source": [
    "import pandas as pd\n",
    "timestamp = pd.Timestamp.now().strftime(\"%m%d%H%M\")\n",
    "\n",
    "df = pd.DataFrame.from_records(train_records)\n",
    "test_df = pd.DataFrame.from_records(test_records)\n",
    "df.to_csv(f\"logs/{args['model']}_{args['dataset']}_{timestamp}_train.csv\", index=False)\n",
    "test_df.to_csv(f\"logs/{args['model']}_{args['dataset']}_{timestamp}_test.csv\", index=False)\n",
    "display(test_df)"
   ]
  },
  {
   "cell_type": "code",
   "execution_count": null,
   "metadata": {},
   "outputs": [],
   "source": [
    "import matplotlib.pyplot as plt\n",
    "plt.plot(df['loss'])\n",
    "plt.xlabel('Epoch')\n",
    "plt.ylabel('Loss')\n",
    "plt.title('Training Loss')\n",
    "plt.show()"
   ]
  },
  {
   "cell_type": "code",
   "execution_count": null,
   "metadata": {},
   "outputs": [],
   "source": [
    "plt.plot(test_df['top1'])\n",
    "plt.plot(test_df['top5'])\n",
    "plt.legend(['Top1', 'Top5'])\n",
    "plt.xlabel('Epoch')\n",
    "plt.ylabel('Accuracy')\n",
    "plt.title('Test Accuracy')\n",
    "plt.show()\n"
   ]
  }
 ],
 "metadata": {
  "kernelspec": {
   "display_name": "uoft",
   "language": "python",
   "name": "python3"
  },
  "language_info": {
   "codemirror_mode": {
    "name": "ipython",
    "version": 3
   },
   "file_extension": ".py",
   "mimetype": "text/x-python",
   "name": "python",
   "nbconvert_exporter": "python",
   "pygments_lexer": "ipython3",
   "version": "3.9.7"
  }
 },
 "nbformat": 4,
 "nbformat_minor": 2
}
